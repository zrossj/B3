{
 "cells": [
  {
   "cell_type": "code",
   "execution_count": 1,
   "id": "0aaed013",
   "metadata": {},
   "outputs": [],
   "source": [
    "import pandas as pd\n",
    "import numpy as np\n",
    "import pymysql\n",
    "import datetime as dt\n",
    "import yfinance as yf\n",
    "import re\n",
    "\n",
    "pd.set_option(\"display.max_rows\", 100)"
   ]
  },
  {
   "cell_type": "code",
   "execution_count": 2,
   "id": "6b7c552d",
   "metadata": {},
   "outputs": [
    {
     "data": {
      "text/plain": [
       "datetime.datetime(2024, 2, 25, 23, 55, 15, 662858)"
      ]
     },
     "execution_count": 2,
     "metadata": {},
     "output_type": "execute_result"
    }
   ],
   "source": [
    "#### TIMING THE SCRIPT FOR RUNNING:\n",
    "run_start = dt.datetime.now()\n",
    "run_start"
   ]
  },
  {
   "cell_type": "code",
   "execution_count": 3,
   "id": "3a4c12d3",
   "metadata": {
    "scrolled": true
   },
   "outputs": [],
   "source": [
    "### calendario anbima:\n",
    "\n",
    "file = '/home/peon/Documents/feriados_nacionais.xls'\n",
    "df_holly = pd.read_excel(file)\n",
    "df_holly = df_holly[~df_holly.Feriado.isnull()]\n",
    "df_holly.loc[:, 'Data'] = df_holly.Data.apply(lambda x: x.date())\n",
    "\n"
   ]
  },
  {
   "cell_type": "markdown",
   "id": "e8da9ff2",
   "metadata": {},
   "source": [
    "#### SQL QUERIES"
   ]
  },
  {
   "cell_type": "code",
   "execution_count": 4,
   "id": "082ee429",
   "metadata": {},
   "outputs": [],
   "source": [
    "# POSTGRES CONNECTION;\n",
    "\n",
    "import psycopg2\n",
    "\n",
    "conn = psycopg2.connect(dbname=\"carteira\", user=\"peon\")\n",
    "\n",
    "cursor = conn.cursor()\n",
    "\n",
    "\n"
   ]
  },
  {
   "cell_type": "code",
   "execution_count": 5,
   "id": "c474493b",
   "metadata": {},
   "outputs": [
    {
     "data": {
      "text/html": [
       "<div>\n",
       "<style scoped>\n",
       "    .dataframe tbody tr th:only-of-type {\n",
       "        vertical-align: middle;\n",
       "    }\n",
       "\n",
       "    .dataframe tbody tr th {\n",
       "        vertical-align: top;\n",
       "    }\n",
       "\n",
       "    .dataframe thead th {\n",
       "        text-align: right;\n",
       "    }\n",
       "</style>\n",
       "<table border=\"1\" class=\"dataframe\">\n",
       "  <thead>\n",
       "    <tr style=\"text-align: right;\">\n",
       "      <th></th>\n",
       "      <th>vector</th>\n",
       "      <th>date</th>\n",
       "      <th>event</th>\n",
       "      <th>asset</th>\n",
       "      <th>broker</th>\n",
       "      <th>quantidade</th>\n",
       "      <th>pu</th>\n",
       "      <th>amount</th>\n",
       "    </tr>\n",
       "  </thead>\n",
       "  <tbody>\n",
       "    <tr>\n",
       "      <th>0</th>\n",
       "      <td>Debito</td>\n",
       "      <td>31/05/2023</td>\n",
       "      <td>Transferência - Liquidação</td>\n",
       "      <td>KEPL3 - KEPLER WEBER S/A</td>\n",
       "      <td>CLEAR CORRETORA - GRUPO XP</td>\n",
       "      <td>200.00</td>\n",
       "      <td>$8.76</td>\n",
       "      <td>$1,752.00</td>\n",
       "    </tr>\n",
       "    <tr>\n",
       "      <th>1</th>\n",
       "      <td>Credito</td>\n",
       "      <td>31/01/2023</td>\n",
       "      <td>Transferência - Liquidação</td>\n",
       "      <td>BBDC4 - BANCO BRADESCO S/A</td>\n",
       "      <td>CLEAR CORRETORA - GRUPO XP</td>\n",
       "      <td>100.00</td>\n",
       "      <td>$13.71</td>\n",
       "      <td>$1,371.00</td>\n",
       "    </tr>\n",
       "  </tbody>\n",
       "</table>\n",
       "</div>"
      ],
      "text/plain": [
       "    vector        date                       event  \\\n",
       "0   Debito  31/05/2023  Transferência - Liquidação   \n",
       "1  Credito  31/01/2023  Transferência - Liquidação   \n",
       "\n",
       "                        asset                      broker quantidade      pu  \\\n",
       "0    KEPL3 - KEPLER WEBER S/A  CLEAR CORRETORA - GRUPO XP     200.00   $8.76   \n",
       "1  BBDC4 - BANCO BRADESCO S/A  CLEAR CORRETORA - GRUPO XP     100.00  $13.71   \n",
       "\n",
       "      amount  \n",
       "0  $1,752.00  \n",
       "1  $1,371.00  "
      ]
     },
     "execution_count": 5,
     "metadata": {},
     "output_type": "execute_result"
    }
   ],
   "source": [
    "# 1. load the raw data from B3, treat and clean and then load into the main table B3;\n",
    "\n",
    "def get_cols_name(table_name):\n",
    "\n",
    "    query = \"\"\"SELECT *\n",
    "    FROM INFORMATION_SCHEMA.COLUMNS\n",
    "    WHERE TABLE_NAME = N'\"\"\" + table_name + \"'\"\n",
    "    \n",
    "    cursor.execute(query)\n",
    "\n",
    "    return pd.DataFrame(cursor.fetchall()).sort_values(4).iloc[:, 3].values\n",
    "\n",
    "\n",
    "def query_df(query, columns):\n",
    "\n",
    "    cursor.execute(query)\n",
    "    df = cursor.fetchall()\n",
    "    df = pd.DataFrame(df, columns = columns)\n",
    "\n",
    "    return df\n",
    "\n",
    "\n",
    "df_b3_raw = query_df(\"SELECT * FROM extrato_b3_raw\",\n",
    "        ['vector', 'date', 'event', 'asset', 'broker', 'quantidade', 'pu', 'amount']\n",
    ")\n",
    "\n",
    "df_b3_raw = df_b3_raw.astype(str).applymap(lambda x: x.strip())  # a must\n",
    "\n",
    "df_b3_raw.head(2)"
   ]
  },
  {
   "cell_type": "code",
   "execution_count": 6,
   "id": "08f593ef-5f40-4b47-9d56-1a33d4109731",
   "metadata": {},
   "outputs": [
    {
     "name": "stdout",
     "output_type": "stream",
     "text": [
      "vector        object\n",
      "date          object\n",
      "event         object\n",
      "asset         object\n",
      "broker        object\n",
      "quantidade    object\n",
      "pu            object\n",
      "amount        object\n",
      "dtype: object\n"
     ]
    },
    {
     "data": {
      "text/plain": [
       "vector        0\n",
       "date          0\n",
       "event         0\n",
       "asset         0\n",
       "broker        0\n",
       "quantidade    0\n",
       "pu            0\n",
       "amount        0\n",
       "dtype: int64"
      ]
     },
     "execution_count": 6,
     "metadata": {},
     "output_type": "execute_result"
    }
   ],
   "source": [
    "print(df_b3_raw.dtypes) # wich dataypes do we have\n",
    "\n",
    "df_b3_raw.isna().sum() # NA Values on the dataset?"
   ]
  },
  {
   "cell_type": "code",
   "execution_count": 7,
   "id": "deebccc8",
   "metadata": {},
   "outputs": [],
   "source": [
    "# first --> treat date type.\n",
    "df_b3 = df_b3_raw.copy()\n",
    "\n",
    "df_b3.loc[:, 'date'] = df_b3_raw.date.apply(lambda x: dt.datetime.strptime(x, '%d/%m/%Y').strftime(\"%Y-%m-%d\")) # we're going to discard the time data, keeping only date.\n",
    "df_b3 = df_b3.sort_values('date')\n",
    "#done"
   ]
  },
  {
   "cell_type": "code",
   "execution_count": null,
   "id": "7c748147",
   "metadata": {},
   "outputs": [],
   "source": []
  },
  {
   "cell_type": "code",
   "execution_count": 8,
   "id": "f566af91",
   "metadata": {},
   "outputs": [],
   "source": [
    "# diving into event;\n",
    "df_b3.groupby('event').first()\n",
    "\n",
    "# podemos concluir que, para nossa análise, faz sentido coletar Dividendo, Transferência - Liquidação, Juros Sobre Capital Próprio, Compra, Venda\n",
    "# vamos remapear esses valores com dicionario para melhor serem buscados;\n",
    "remap_event_vals = dict(zip(['Transferência - Liquidação', 'Venda', 'Compra'], ['Swingt'] * 3))\n",
    "remap_event_vals['Juros Sobre Capital Próprio'] = 'JCP'\n",
    "\n",
    "df_b3.replace({'event': remap_event_vals}, inplace=True)"
   ]
  },
  {
   "cell_type": "code",
   "execution_count": null,
   "id": "64933d44",
   "metadata": {},
   "outputs": [],
   "source": []
  },
  {
   "cell_type": "code",
   "execution_count": 9,
   "id": "cd3b5cd8",
   "metadata": {},
   "outputs": [
    {
     "name": "stdout",
     "output_type": "stream",
     "text": [
      "118                                   Tesouro Selic 2027\n",
      "117                                   Tesouro IPCA+ 2045\n",
      "65                 SANB4 - BANCO SANTANDER (BRASIL) S.A.\n",
      "63            CXSE3 - CAIXA SEGURIDADE PARTICIPACOES S/A\n",
      "64                                    KLBN4 - KLABIN S/A\n",
      "                             ...                        \n",
      "225                    Opção de Compra - MGLUB140 - MGLU\n",
      "224    TAEE4 - TRANSMISSORA ALIANCA DE ENERGIA ELETRI...\n",
      "223                     Opção de Venda - CSNAN192 - CSNA\n",
      "222                     Opção de Venda - CSNAN192 - CSNA\n",
      "221                    Opção de Compra - RRRPB260 - RRRP\n",
      "Name: asset, Length: 316, dtype: object\n"
     ]
    }
   ],
   "source": [
    "# Dive into Asset\n",
    "print(df_b3.asset)\n",
    "\n",
    "# here, we need to regex the ticker code, getting only derivatives and stocks and throwing away Treasure bonds;\n",
    "\n",
    "p = re.compile('[A-Z]{4,5}[0-9]{1,3}')\n",
    "\n",
    "df_b3.loc[:, 'asset'] = df_b3.asset.apply(lambda x: p.search(x).group() if p.search(x) else 'drop')\n",
    "\n",
    "df_b3 = df_b3[df_b3.asset != 'drop'] # removing anyone who didn't matched the regex above."
   ]
  },
  {
   "cell_type": "code",
   "execution_count": 10,
   "id": "97ee073d",
   "metadata": {},
   "outputs": [],
   "source": [
    "# numeric types\n",
    "\n",
    "df_b3[['pu', 'quantidade']] = df_b3[['pu', 'quantidade']].applymap(\n",
    "    lambda x: float(x.replace(',', '').replace('$', ''))\n",
    ")"
   ]
  },
  {
   "cell_type": "markdown",
   "id": "18379cc2",
   "metadata": {},
   "source": [
    "### Prepare a .sql file for injection!"
   ]
  },
  {
   "cell_type": "code",
   "execution_count": 11,
   "id": "53187189",
   "metadata": {},
   "outputs": [],
   "source": [
    "target_cols = ['vector', 'date', 'event', 'asset', 'quantidade', 'pu']  # columns that match or database design.\n",
    "\n",
    "vals = []\n",
    "\n",
    "for i, row in df_b3[target_cols].iterrows():\n",
    "    vals.append(str(tuple(row.values)))\n",
    "\n",
    "string = \",\\n\".join(vals)\n",
    "\n",
    "inje_f = '/home/peon/Downloads/injection.sql'\n",
    "\n",
    "with open(inje_f, 'w') as f:\n",
    "    f.write(\"INSERT INTO extrato_b3 (vector, date, event, asset, quantidade, pu) VALUES\\n\" + string)\n",
    "\n",
    "\n"
   ]
  },
  {
   "cell_type": "markdown",
   "id": "43530be1",
   "metadata": {},
   "source": [
    "### At this point, we need to first load the generated file above to continue."
   ]
  },
  {
   "cell_type": "code",
   "execution_count": 12,
   "id": "65eb4b4f",
   "metadata": {},
   "outputs": [],
   "source": [
    "import sys\n",
    "\n",
    "keep_going = input(\"The injection file was consumed?\")\n",
    "\n",
    "if keep_going == 'yes':\n",
    "    None\n",
    "\n",
    "else: \n",
    "    #sys.exit\n",
    "    None\n"
   ]
  },
  {
   "cell_type": "code",
   "execution_count": 13,
   "id": "cc7a3748",
   "metadata": {
    "scrolled": true
   },
   "outputs": [],
   "source": [
    "#  now, we get at a 2nd pillar of the script. It's time to create and update the wallet;\n",
    "# this will be done making updates for every single row added in the extrato. So at every new row, update the database and then query for it again.\n",
    "# first - check if there is a wallet done. if not, create one. the first row must be a credit op. we could lock the database to not allow negative quantities. That would garantee that we only sell if we have the position.\n",
    "# another way is to check it here with assert.\n",
    "# In a day, we can alter the database for updating the position. The next day,  we start with a copy of the day's before position.\n",
    "\n"
   ]
  },
  {
   "cell_type": "code",
   "execution_count": null,
   "id": "4953df7f",
   "metadata": {},
   "outputs": [],
   "source": []
  },
  {
   "cell_type": "code",
   "execution_count": 14,
   "id": "3c7baee3",
   "metadata": {},
   "outputs": [],
   "source": [
    "df_ops = query_df(\"SELECT * FROM extrato_b3 WHERE event = 'Swingt'\", get_cols_name('extrato_b3')) # df_ops == DataFrame of the operations in our extrato excluded JPC and Dividends;\n",
    "df_ops = df_ops.applymap(lambda x: x.strip() if isinstance(x, str) else x) # maldito strip bugado.\n",
    "# as we're going to only update the transactions, let's exclude dividends and jcp.\n",
    "\n",
    "df_ops.head(2)\n",
    "\n",
    "# lets correct qtd for debit. \n",
    "debcred_factor_correction = [1 if x=='Credito' else -1 for x in df_ops.vector  ]\n",
    "\n",
    "df_ops['quantidade'] = df_ops.quantidade * debcred_factor_correction"
   ]
  },
  {
   "cell_type": "code",
   "execution_count": 15,
   "id": "f2bbc38d",
   "metadata": {},
   "outputs": [],
   "source": [
    "def clone_position(dayp1, day):\n",
    "\n",
    "    cursor.execute(\"INSERT INTO carteira (date, ticker, quantidade, pumedio) (SELECT '{}', ticker, quantidade, pumedio FROM carteira WHERE date = '{}')\".format(dayp1, day))    \n",
    "\n",
    "    return print(\"position cloned!\")\n",
    "\n",
    "\n",
    "def update_position(newqt, newpu, id):\n",
    "            \n",
    "        cursor.execute(\"\"\"UPDATE carteira SET quantidade = {}, pumedio = {} WHERE id = {}\"\"\".format(newqt, \"%.2f\" % newpu, id))\n",
    "        \n",
    "        return print(\"Position updated!\")\n",
    "\n",
    "\n",
    "\n",
    "# main block for transactions and to update the position/custody\n",
    "delta_time = (df_ops.date.max() - df_ops.date.min())\n",
    "range_time = [df_ops.date.max() - dt.timedelta(days = x) for x in range(delta_time.days + 1)] # this create our date range object.\n",
    "period = range_time.copy()\n",
    "period.sort()\n",
    "\n"
   ]
  },
  {
   "cell_type": "code",
   "execution_count": null,
   "id": "4e5296b1",
   "metadata": {},
   "outputs": [],
   "source": []
  },
  {
   "cell_type": "code",
   "execution_count": null,
   "id": "9b5968da",
   "metadata": {},
   "outputs": [],
   "source": []
  },
  {
   "cell_type": "markdown",
   "id": "ad41d279",
   "metadata": {},
   "source": [
    "def fx_nxt_dia_util(day):\n",
    "\n",
    "    dayp1 = day.date() + dt.timedelta(days = 1) # starts getting next day.\n",
    "\n",
    "    while (dayp1.weekday() == 5 or dayp1.weekday() == 6 or \n",
    "    dayp1 in df_holly.Data.values):\n",
    "\n",
    "        dayp1 = day.date() + dt.timedelta(days = 1) \n",
    "\n",
    "    return dayp1\n",
    "    \n",
    "    "
   ]
  },
  {
   "cell_type": "code",
   "execution_count": 19,
   "id": "f9992ffb",
   "metadata": {},
   "outputs": [
    {
     "ename": "SyntaxError",
     "evalue": "invalid syntax (1551605323.py, line 1)",
     "output_type": "error",
     "traceback": [
      "\u001b[0;36m  Cell \u001b[0;32mIn[19], line 1\u001b[0;36m\u001b[0m\n\u001b[0;31m    stop here.\u001b[0m\n\u001b[0m         ^\u001b[0m\n\u001b[0;31mSyntaxError\u001b[0m\u001b[0;31m:\u001b[0m invalid syntax\n"
     ]
    }
   ],
   "source": [
    "stop here."
   ]
  },
  {
   "cell_type": "markdown",
   "id": "323889be",
   "metadata": {},
   "source": [
    "### UPDATING THE WALLET old old old"
   ]
  },
  {
   "cell_type": "markdown",
   "id": "4e9dec06",
   "metadata": {},
   "source": [
    "#### CALL CELL"
   ]
  },
  {
   "cell_type": "code",
   "execution_count": null,
   "id": "afdcb910",
   "metadata": {
    "scrolled": true
   },
   "outputs": [
    {
     "name": "stdout",
     "output_type": "stream",
     "text": [
      "[*********************100%%**********************]  16 of 16 completed\n",
      "[*********************100%%**********************]  16 of 16 completed\n",
      "[*********************100%%**********************]  16 of 16 completed\n",
      "[*********************100%%**********************]  16 of 16 completed\n",
      "[*********************100%%**********************]  16 of 16 completed\n",
      "[*********************100%%**********************]  16 of 16 completed\n",
      "[*********************100%%**********************]  16 of 16 completed\n",
      "[*********************100%%**********************]  16 of 16 completed\n",
      "[*********************100%%**********************]  16 of 16 completed\n",
      "[*********************100%%**********************]  16 of 16 completed\n",
      "[*********************100%%**********************]  17 of 17 completed\n",
      "[*********************100%%**********************]  17 of 17 completed\n",
      "[*********************100%%**********************]  17 of 17 completed\n",
      "[*********************100%%**********************]  17 of 17 completed\n",
      "[*********************100%%**********************]  17 of 17 completed\n",
      "[*********************100%%**********************]  17 of 17 completed\n",
      "[*********************100%%**********************]  17 of 17 completed\n",
      "[*********************100%%**********************]  17 of 17 completed\n",
      "[*********************100%%**********************]  17 of 17 completed\n",
      "[*********************100%%**********************]  17 of 17 completed\n",
      "[*********************100%%**********************]  17 of 17 completed\n",
      "[*********************100%%**********************]  17 of 17 completed\n",
      "[*********************100%%**********************]  17 of 17 completed\n",
      "[*********************100%%**********************]  17 of 17 completed\n",
      "[*********************100%%**********************]  17 of 17 completed\n",
      "[*********************100%%**********************]  17 of 17 completed\n",
      "[*********************100%%**********************]  17 of 17 completed\n",
      "[*********************100%%**********************]  17 of 17 completed\n",
      "[*********************100%%**********************]  17 of 17 completed\n",
      "[*********************100%%**********************]  17 of 17 completed\n",
      "[*********************100%%**********************]  17 of 17 completed\n",
      "[*********************100%%**********************]  17 of 17 completed\n",
      "[*********************100%%**********************]  17 of 17 completed\n",
      "[*********************100%%**********************]  17 of 17 completed\n",
      "[*********************100%%**********************]  17 of 17 completed\n",
      "[*********************100%%**********************]  17 of 17 completed\n",
      "[*********************100%%**********************]  17 of 17 completed\n",
      "[*********************100%%**********************]  17 of 17 completed\n",
      "[*********************100%%**********************]  17 of 17 completed\n",
      "[*********************100%%**********************]  17 of 17 completed\n",
      "[*********************100%%**********************]  17 of 17 completed\n",
      "[*********************100%%**********************]  17 of 17 completed\n",
      "[*********************100%%**********************]  17 of 17 completed\n",
      "[*********************100%%**********************]  17 of 17 completed\n",
      "[*********************100%%**********************]  17 of 17 completed\n",
      "[*********************100%%**********************]  17 of 17 completed\n",
      "[*********************100%%**********************]  17 of 17 completed\n",
      "[*********************100%%**********************]  17 of 17 completed\n",
      "[*********************100%%**********************]  17 of 17 completed\n",
      "[*********************100%%**********************]  17 of 17 completed\n",
      "[*********************100%%**********************]  17 of 17 completed\n",
      "[*********************100%%**********************]  17 of 17 completed\n",
      "[*********************100%%**********************]  17 of 17 completed\n",
      "[*********************100%%**********************]  17 of 17 completed\n",
      "[*********************100%%**********************]  17 of 17 completed\n",
      "[*********************100%%**********************]  17 of 17 completed\n",
      "[*********************100%%**********************]  17 of 17 completed\n",
      "[*********************100%%**********************]  17 of 17 completed\n",
      "[*********************100%%**********************]  17 of 17 completed\n",
      "[*********************100%%**********************]  17 of 17 completed\n",
      "[*********************100%%**********************]  17 of 17 completed\n",
      "[*********************100%%**********************]  17 of 17 completed\n",
      "[*********************100%%**********************]  17 of 17 completed\n",
      "[*********************100%%**********************]  17 of 17 completed\n",
      "[*********************100%%**********************]  17 of 17 completed\n",
      "[*********************100%%**********************]  17 of 17 completed\n",
      "[*********************100%%**********************]  17 of 17 completed\n",
      "[*********************100%%**********************]  17 of 17 completed\n",
      "[*********************100%%**********************]  17 of 17 completed\n",
      "[*********************100%%**********************]  17 of 17 completed\n",
      "[*********************100%%**********************]  17 of 17 completed\n",
      "[*********************100%%**********************]  17 of 17 completed\n",
      "[*********************100%%**********************]  17 of 17 completed\n",
      "[*********************100%%**********************]  17 of 17 completed\n",
      "[*********************100%%**********************]  17 of 17 completed\n",
      "[*********************100%%**********************]  17 of 17 completed\n",
      "[*********************100%%**********************]  17 of 17 completed\n",
      "[*********************100%%**********************]  17 of 17 completed\n",
      "[*********************100%%**********************]  17 of 17 completed\n",
      "[*********************100%%**********************]  17 of 17 completed\n",
      "[*********************100%%**********************]  17 of 17 completed\n",
      "[*********************100%%**********************]  17 of 17 completed\n",
      "[*********************100%%**********************]  17 of 17 completed\n",
      "[*********************100%%**********************]  17 of 17 completed\n",
      "[*********************100%%**********************]  17 of 17 completed\n",
      "[*********************100%%**********************]  17 of 17 completed\n",
      "[*********************100%%**********************]  17 of 17 completed\n",
      "[*********************100%%**********************]  17 of 17 completed\n",
      "[*********************100%%**********************]  17 of 17 completed\n",
      "[*********************100%%**********************]  17 of 17 completed\n",
      "[*********************100%%**********************]  17 of 17 completed\n",
      "[*********************100%%**********************]  17 of 17 completed\n",
      "[*********************100%%**********************]  17 of 17 completed\n",
      "[*********************100%%**********************]  17 of 17 completed\n",
      "[*********************100%%**********************]  17 of 17 completed\n",
      "[*********************100%%**********************]  17 of 17 completed\n",
      "[*********************100%%**********************]  17 of 17 completed\n",
      "[*********************100%%**********************]  17 of 17 completed\n",
      "[*********************100%%**********************]  17 of 17 completed\n",
      "[*********************100%%**********************]  17 of 17 completed\n",
      "[*********************100%%**********************]  17 of 17 completed\n",
      "[*********************100%%**********************]  17 of 17 completed\n",
      "[*********************100%%**********************]  17 of 17 completed\n",
      "[*********************100%%**********************]  17 of 17 completed\n",
      "[*********************100%%**********************]  17 of 17 completed\n",
      "[*********************100%%**********************]  17 of 17 completed\n",
      "[*********************100%%**********************]  17 of 17 completed\n",
      "[*********************100%%**********************]  17 of 17 completed\n",
      "[*********************100%%**********************]  17 of 17 completed\n",
      "[*********************100%%**********************]  17 of 17 completed\n",
      "[*********************100%%**********************]  17 of 17 completed\n",
      "[*********************100%%**********************]  17 of 17 completed\n",
      "[*********************100%%**********************]  17 of 17 completed\n",
      "[*********************100%%**********************]  17 of 17 completed\n",
      "[*********************100%%**********************]  17 of 17 completed\n",
      "[*********************100%%**********************]  17 of 17 completed\n",
      "[*********************100%%**********************]  17 of 17 completed\n",
      "[*********************100%%**********************]  17 of 17 completed\n",
      "[*********************100%%**********************]  17 of 17 completed\n",
      "[*********************100%%**********************]  17 of 17 completed\n",
      "[*********************100%%**********************]  17 of 17 completed\n",
      "[*********************100%%**********************]  17 of 17 completed\n",
      "[*********************100%%**********************]  17 of 17 completed\n",
      "[*********************100%%**********************]  17 of 17 completed\n",
      "[*********************100%%**********************]  17 of 17 completed\n",
      "[*********************100%%**********************]  17 of 17 completed\n",
      "[*********************100%%**********************]  17 of 17 completed\n",
      "[*********************100%%**********************]  17 of 17 completed\n",
      "[*********************100%%**********************]  17 of 17 completed\n",
      "[*********************100%%**********************]  17 of 17 completed\n",
      "[*********************100%%**********************]  17 of 17 completed\n",
      "[*********************100%%**********************]  17 of 17 completed\n",
      "[*********************100%%**********************]  17 of 17 completed\n",
      "[*********************100%%**********************]  17 of 17 completed\n",
      "[*********************100%%**********************]  17 of 17 completed\n",
      "[*********************100%%**********************]  17 of 17 completed\n",
      "[*********************100%%**********************]  17 of 17 completed\n",
      "[*********************100%%**********************]  17 of 17 completed\n",
      "[*********************100%%**********************]  17 of 17 completed\n",
      "[*********************100%%**********************]  17 of 17 completed\n"
     ]
    }
   ],
   "source": [
    "### ADD COTAÇÃO NA CARTEIRAS ATRAVÉS DO DICIONÁRIO; - FIZ SEPARADO PARA NÃO TER QUE MODIFICAR O MAIN;\n",
    "\n",
    "wallet_wprices = {}\n",
    "# GET MARKET PRICES\n",
    "\n",
    "def get_MarketPrice(dia, df):\n",
    "    \n",
    "    dia = dt.datetime.strptime(dia, '%Y%m%d')\n",
    "    diaMais  = dia + dt.timedelta(5)\n",
    "    \n",
    "    #date as string;\n",
    "    dia_str = dia.strftime('%Y-%m-%d')\n",
    "    diaMais_str = diaMais.strftime('%Y-%m-%d')\n",
    "    \n",
    "    #---\n",
    "    tickers = df.index\n",
    "    tickers = [x+'.SA' for x in tickers]\n",
    "\n",
    "    df_prices = yf.download(tickers, start = dia_str, end = diaMais_str).iloc[[0]].Close.T\n",
    "    df_prices.applymap(lambda x: round(x, 2))\n",
    "    df_prices.columns = ['PUMercado']\n",
    "    df_prices.index = [x[:-3] for x in df_prices.index] \n",
    "    \n",
    "    #join and calc:   \n",
    "    \n",
    "    df = df.join(df_prices)\n",
    "    df['ValorMercado'] = round(df.PUMercado * df.Qt, 2)\n",
    "    df['Return (%)'] = round((df.PUMercado/ df.PU)*100 - 100, 2)\n",
    "    \n",
    "    #solving NAN PROBLEM with ENBR;\n",
    "    df = df.fillna(0)\n",
    "    \n",
    "    return df\n",
    "\n",
    "\n",
    "# chamada da função.\n",
    "for dia, dataframe in wallet_dic.items():\n",
    "    \n",
    "    df = get_MarketPrice(dia, dataframe)\n",
    "    wallet_wprices[dia] = df\n",
    "\n",
    "    "
   ]
  }
 ],
 "metadata": {
  "kernelspec": {
   "display_name": "Python 3 (ipykernel)",
   "language": "python",
   "name": "python3"
  },
  "language_info": {
   "codemirror_mode": {
    "name": "ipython",
    "version": 3
   },
   "file_extension": ".py",
   "mimetype": "text/x-python",
   "name": "python",
   "nbconvert_exporter": "python",
   "pygments_lexer": "ipython3",
   "version": "3.11.0"
  }
 },
 "nbformat": 4,
 "nbformat_minor": 5
}
